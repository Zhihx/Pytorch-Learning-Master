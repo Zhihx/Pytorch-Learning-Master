{
 "cells": [
  {
   "cell_type": "code",
   "execution_count": 1,
   "id": "f3316515",
   "metadata": {},
   "outputs": [],
   "source": [
    "import torch\n",
    "import numpy as np"
   ]
  },
  {
   "cell_type": "markdown",
   "id": "aedf6e58",
   "metadata": {},
   "source": [
    "## Initialization of a tensor\n",
    "There are three basic properties of a tensor in Pytorch:\n",
    "- ```dtype```\n",
    "- ```device```\n",
    "- ```requires_grad```"
   ]
  },
  {
   "cell_type": "code",
   "execution_count": 23,
   "id": "b747f05e",
   "metadata": {},
   "outputs": [
    {
     "name": "stdout",
     "output_type": "stream",
     "text": [
      "cpu:0\n"
     ]
    }
   ],
   "source": [
    "device = torch.device('cpu', 0)\n",
    "print(device)"
   ]
  },
  {
   "cell_type": "code",
   "execution_count": 3,
   "id": "9f16f289",
   "metadata": {},
   "outputs": [
    {
     "name": "stdout",
     "output_type": "stream",
     "text": [
      "tensor([[1.1561e+19, 6.8794e+11, 2.7253e+20],\n",
      "        [3.0866e+29, 1.1547e+19, 4.1988e+07],\n",
      "        [3.0357e+32, 1.1547e+19, 6.4069e+02],\n",
      "        [4.3066e+21, 1.1547e+19, 7.3867e+20],\n",
      "        [9.2358e-01, 2.5774e-12, 4.4353e+27]])\n",
      "<class 'torch.Tensor'>\n"
     ]
    }
   ],
   "source": [
    "x = torch.empty(5, 3)\n",
    "print(x)\n",
    "print(type(x))"
   ]
  },
  {
   "cell_type": "code",
   "execution_count": 4,
   "id": "6d3b1f75",
   "metadata": {},
   "outputs": [
    {
     "name": "stdout",
     "output_type": "stream",
     "text": [
      "tensor([[0.7175, 0.0697, 0.4060],\n",
      "        [0.4356, 0.7068, 0.3295],\n",
      "        [0.3742, 0.3745, 0.6878],\n",
      "        [0.0360, 0.9598, 0.0696],\n",
      "        [0.6959, 0.7825, 0.6948]])\n"
     ]
    }
   ],
   "source": [
    "x = torch.rand(5, 3)\n",
    "print(x)"
   ]
  },
  {
   "cell_type": "code",
   "execution_count": 5,
   "id": "9aa68408",
   "metadata": {},
   "outputs": [
    {
     "name": "stdout",
     "output_type": "stream",
     "text": [
      "[[0.80601783 0.73113037 0.13983885]\n",
      " [0.6657179  0.9354483  0.0402669 ]\n",
      " [0.68111934 0.98597564 0.13552464]\n",
      " [0.87199893 0.71061815 0.72712647]\n",
      " [0.08473934 0.4563115  0.79775659]]\n",
      "tensor([[0.8060, 0.7311, 0.1398],\n",
      "        [0.6657, 0.9354, 0.0403],\n",
      "        [0.6811, 0.9860, 0.1355],\n",
      "        [0.8720, 0.7106, 0.7271],\n",
      "        [0.0847, 0.4563, 0.7978]])\n",
      "cpu\n"
     ]
    }
   ],
   "source": [
    "x = np.random.rand(5, 3)\n",
    "print(x)\n",
    "y = torch.tensor(x, dtype = torch.float32, device = device)\n",
    "print(y)\n",
    "print(y.device)"
   ]
  },
  {
   "cell_type": "code",
   "execution_count": 6,
   "id": "1c9bdebf",
   "metadata": {},
   "outputs": [
    {
     "name": "stdout",
     "output_type": "stream",
     "text": [
      "tensor([[0.8060, 0.7311, 0.1398],\n",
      "        [0.6657, 0.9354, 0.0403],\n",
      "        [0.6811, 0.9860, 0.1355],\n",
      "        [0.8720, 0.7106, 0.7271],\n",
      "        [0.0847, 0.4563, 0.7978]], dtype=torch.float64)\n",
      "cpu\n"
     ]
    }
   ],
   "source": [
    "z = torch.from_numpy(x)\n",
    "print(z)\n",
    "print(z.device)"
   ]
  },
  {
   "cell_type": "markdown",
   "id": "7de600fe",
   "metadata": {},
   "source": [
    "### Squeeze vs unsqueeze\n",
    "- ```unsqueeze()``` to return a new tensor with a dimension of size one inserted at the specified position.\n",
    "- ```squeeze()``` to return a tensor with all the dimensions of input of size 1 removed."
   ]
  },
  {
   "cell_type": "code",
   "execution_count": 7,
   "id": "8ef9a611",
   "metadata": {},
   "outputs": [
    {
     "name": "stdout",
     "output_type": "stream",
     "text": [
      "torch.Size([3, 255, 255])\n",
      "torch.Size([1, 3, 255, 255])\n"
     ]
    }
   ],
   "source": [
    "x = torch.rand(3, 255, 255)\n",
    "print(x.shape)\n",
    "y = torch.unsqueeze(x, 0)\n",
    "print(y.shape)"
   ]
  },
  {
   "cell_type": "code",
   "execution_count": 8,
   "id": "433209c3",
   "metadata": {},
   "outputs": [
    {
     "name": "stdout",
     "output_type": "stream",
     "text": [
      "torch.Size([3, 255, 255])\n"
     ]
    }
   ],
   "source": [
    "z = torch.squeeze(x)\n",
    "print(z.shape)"
   ]
  },
  {
   "cell_type": "markdown",
   "id": "8f83ebdf",
   "metadata": {},
   "source": [
    "## Common Commands"
   ]
  },
  {
   "cell_type": "code",
   "execution_count": 9,
   "id": "940f81aa",
   "metadata": {},
   "outputs": [
    {
     "name": "stdout",
     "output_type": "stream",
     "text": [
      "1.13.0+cpu\n",
      "None\n",
      "<function get_device_name at 0x000002014AB7F708>\n",
      "<function version at 0x000002014B303708>\n"
     ]
    }
   ],
   "source": [
    "print(torch.__version__)\n",
    "print(torch.version.cuda)\n",
    "print(torch.cuda.get_device_name)\n",
    "print(torch.backends.cudnn.version)"
   ]
  },
  {
   "cell_type": "markdown",
   "id": "d6ea3c9a",
   "metadata": {},
   "source": [
    "### Casting"
   ]
  },
  {
   "cell_type": "code",
   "execution_count": 10,
   "id": "c0d46dd1",
   "metadata": {},
   "outputs": [
    {
     "name": "stdout",
     "output_type": "stream",
     "text": [
      "torch.float32\n"
     ]
    }
   ],
   "source": [
    "x = torch.rand(5, 5, dtype = torch.float32)\n",
    "print(x.dtype)"
   ]
  },
  {
   "cell_type": "code",
   "execution_count": 11,
   "id": "59721f27",
   "metadata": {},
   "outputs": [
    {
     "name": "stdout",
     "output_type": "stream",
     "text": [
      "torch.float64\n"
     ]
    }
   ],
   "source": [
    "x = x.double()\n",
    "print(x.dtype)"
   ]
  },
  {
   "cell_type": "code",
   "execution_count": 12,
   "id": "18e8114a",
   "metadata": {},
   "outputs": [
    {
     "name": "stdout",
     "output_type": "stream",
     "text": [
      "torch.float16\n"
     ]
    }
   ],
   "source": [
    "x = x.half()\n",
    "print(x.dtype)"
   ]
  },
  {
   "cell_type": "code",
   "execution_count": 13,
   "id": "9c996281",
   "metadata": {},
   "outputs": [
    {
     "name": "stdout",
     "output_type": "stream",
     "text": [
      "torch.int64\n"
     ]
    }
   ],
   "source": [
    "x = x.long()\n",
    "print(x.dtype)"
   ]
  },
  {
   "cell_type": "markdown",
   "id": "2249ebdc",
   "metadata": {},
   "source": [
    "A very common way to define ```device``` is use a if-else:"
   ]
  },
  {
   "cell_type": "code",
   "execution_count": 14,
   "id": "bc9e252e",
   "metadata": {},
   "outputs": [
    {
     "name": "stdout",
     "output_type": "stream",
     "text": [
      "cpu\n"
     ]
    }
   ],
   "source": [
    "if torch.cuda.is_available():\n",
    "    device = 'cuda'\n",
    "else:\n",
    "    device = 'cpu'\n",
    "    \n",
    "print(device)"
   ]
  },
  {
   "cell_type": "markdown",
   "id": "58d41fe1",
   "metadata": {},
   "source": [
    "### torch.Tensor.clone()\n",
    "```clone()``` to return a copy of a tensor. Noted that the output and input tensor don't share same stroage"
   ]
  },
  {
   "cell_type": "code",
   "execution_count": 15,
   "id": "b465bfb0",
   "metadata": {},
   "outputs": [
    {
     "name": "stdout",
     "output_type": "stream",
     "text": [
      "2204608429016\n",
      "2204608385656\n",
      "2204608333048\n",
      "False\n"
     ]
    }
   ],
   "source": [
    "x = torch.rand(3, 5, dtype = torch.float32)\n",
    "print(id(x))\n",
    "y = x.clone()\n",
    "print(id(y))\n",
    "\n",
    "z = torch.sin(x)\n",
    "print(id(z))\n",
    "\n",
    "print(x.storage().data_ptr() == y.storage().data_ptr()) # different storage\n"
   ]
  },
  {
   "cell_type": "markdown",
   "id": "5d47c427",
   "metadata": {},
   "source": [
    "### torch.Tensor.clamp()\n",
    "```clamp()``` to clamp all elements in input into the range [```min```, ```max``` ].\n",
    "\n",
    "Noted that ```x.clamp(min=0)``` can be used to define ReLU"
   ]
  },
  {
   "cell_type": "code",
   "execution_count": 16,
   "id": "44431bc7",
   "metadata": {},
   "outputs": [
    {
     "name": "stdout",
     "output_type": "stream",
     "text": [
      "tensor([[ 0.2741,  1.4270,  0.4713, -0.1086,  0.6749],\n",
      "        [-0.3464, -0.7055,  0.2132, -0.3279, -0.5013],\n",
      "        [-1.0820, -0.0505, -2.1460,  2.1234,  0.0678]])\n"
     ]
    }
   ],
   "source": [
    "x = torch.randn(3, 5)\n",
    "print(x)"
   ]
  },
  {
   "cell_type": "code",
   "execution_count": 17,
   "id": "28049394",
   "metadata": {},
   "outputs": [
    {
     "name": "stdout",
     "output_type": "stream",
     "text": [
      "tensor([[0.2741, 1.4270, 0.4713, 0.0000, 0.6749],\n",
      "        [0.0000, 0.0000, 0.2132, 0.0000, 0.0000],\n",
      "        [0.0000, 0.0000, 0.0000, 2.1234, 0.0678]])\n",
      "False\n"
     ]
    }
   ],
   "source": [
    "y = x.clamp(min = 0)\n",
    "print(y)\n",
    "print(id(x) == id(y))"
   ]
  },
  {
   "cell_type": "code",
   "execution_count": 18,
   "id": "b306d3aa",
   "metadata": {},
   "outputs": [
    {
     "name": "stdout",
     "output_type": "stream",
     "text": [
      "tensor([[0.2741, 1.4270, 0.4713, 0.0000, 0.6749],\n",
      "        [0.0000, 0.0000, 0.2132, 0.0000, 0.0000],\n",
      "        [0.0000, 0.0000, 0.0000, 2.1234, 0.0678]])\n",
      "False\n"
     ]
    }
   ],
   "source": [
    "relu = torch.nn.ReLU()\n",
    "z = relu(x)\n",
    "print(z)\n",
    "print(id(x) == id(z))"
   ]
  },
  {
   "cell_type": "markdown",
   "id": "2a10725c",
   "metadata": {},
   "source": [
    "### Flatten vs view\n",
    "- ```torch.flatten()``` does not need shape paremeters\n",
    "- ```torch.Tensor.view()``` needs shape paremeters\n",
    "\n",
    "These two methods output tensors sharing same storage with input tensor"
   ]
  },
  {
   "cell_type": "code",
   "execution_count": 19,
   "id": "4405ae4b",
   "metadata": {},
   "outputs": [
    {
     "name": "stdout",
     "output_type": "stream",
     "text": [
      "tensor([[[1, 2],\n",
      "         [3, 4]],\n",
      "\n",
      "        [[5, 6],\n",
      "         [7, 8]]])\n",
      "tensor([1, 2, 3, 4, 5, 6, 7, 8])\n",
      "False\n",
      "2204564839040\n",
      "2204564839040\n"
     ]
    }
   ],
   "source": [
    "x = torch.tensor([[[1, 2], [3, 4]], [[5, 6], [7, 8]]])\n",
    "print(x)\n",
    "y = torch.flatten(x)\n",
    "print(y)\n",
    "print(id(x) == id(y))\n",
    "print(x.storage().data_ptr())\n",
    "print(y.storage().data_ptr()) # share same storage but with different id?"
   ]
  },
  {
   "cell_type": "code",
   "execution_count": 20,
   "id": "a660cd1f",
   "metadata": {},
   "outputs": [
    {
     "name": "stdout",
     "output_type": "stream",
     "text": [
      "tensor([[[1, 2],\n",
      "         [3, 4]],\n",
      "\n",
      "        [[5, 6],\n",
      "         [7, 8]]])\n",
      "tensor([1, 2, 3, 4, 5, 6, 7, 8])\n",
      "False\n",
      "2204564838592\n",
      "2204564838592\n"
     ]
    }
   ],
   "source": [
    "x = torch.tensor([[[1, 2], [3, 4]], [[5, 6], [7, 8]]])\n",
    "print(x)\n",
    "y = x.view(x.numel())\n",
    "print(y)\n",
    "print(id(x) == id(y))\n",
    "print(x.storage().data_ptr())\n",
    "print(y.storage().data_ptr()) # share same storage but with different id?"
   ]
  },
  {
   "cell_type": "markdown",
   "id": "97402b38",
   "metadata": {},
   "source": [
    "### torch.Tensor.item() (Slow speed)"
   ]
  },
  {
   "cell_type": "code",
   "execution_count": 21,
   "id": "c42ac1f3",
   "metadata": {},
   "outputs": [
    {
     "name": "stdout",
     "output_type": "stream",
     "text": [
      "1.0\n"
     ]
    }
   ],
   "source": [
    "x = torch.tensor(1.0)\n",
    "print(x.item())"
   ]
  },
  {
   "cell_type": "markdown",
   "id": "9401dab9",
   "metadata": {},
   "source": [
    "### torch.Tensor.tolist() (Slow speed)"
   ]
  },
  {
   "cell_type": "code",
   "execution_count": 22,
   "id": "080c6c8b",
   "metadata": {},
   "outputs": [
    {
     "name": "stdout",
     "output_type": "stream",
     "text": [
      "tensor([ 1,  2,  3,  4,  5,  6,  7,  8,  9, 10])\n",
      "[1, 2, 3, 4, 5, 6, 7, 8, 9, 10]\n"
     ]
    }
   ],
   "source": [
    "x = torch.arange(1, 11)\n",
    "print(x)\n",
    "y = x.tolist()\n",
    "print(y)"
   ]
  },
  {
   "cell_type": "markdown",
   "id": "d1572ebe",
   "metadata": {},
   "source": [
    "### torch.Tensor.detach()\n",
    "- 脱离graph(requires_grad = False)\n",
    "- 不在计算graident梯度(保持参数weights不变)\n",
    "- 只训练分支网络时"
   ]
  },
  {
   "cell_type": "code",
   "execution_count": null,
   "id": "488e4dc3",
   "metadata": {},
   "outputs": [],
   "source": []
  },
  {
   "cell_type": "code",
   "execution_count": null,
   "id": "1c953614",
   "metadata": {},
   "outputs": [],
   "source": []
  },
  {
   "cell_type": "code",
   "execution_count": null,
   "id": "34b53339",
   "metadata": {},
   "outputs": [],
   "source": []
  },
  {
   "cell_type": "code",
   "execution_count": null,
   "id": "5abbdd74",
   "metadata": {},
   "outputs": [],
   "source": []
  }
 ],
 "metadata": {
  "kernelspec": {
   "display_name": "Python 3 (ipykernel)",
   "language": "python",
   "name": "python3"
  },
  "language_info": {
   "codemirror_mode": {
    "name": "ipython",
    "version": 3
   },
   "file_extension": ".py",
   "mimetype": "text/x-python",
   "name": "python",
   "nbconvert_exporter": "python",
   "pygments_lexer": "ipython3",
   "version": "3.7.13"
  },
  "toc": {
   "base_numbering": 1,
   "nav_menu": {},
   "number_sections": true,
   "sideBar": true,
   "skip_h1_title": false,
   "title_cell": "Table of Contents",
   "title_sidebar": "Contents",
   "toc_cell": false,
   "toc_position": {
    "height": "calc(100% - 180px)",
    "left": "10px",
    "top": "150px",
    "width": "300.27px"
   },
   "toc_section_display": true,
   "toc_window_display": true
  },
  "varInspector": {
   "cols": {
    "lenName": 16,
    "lenType": 16,
    "lenVar": 40
   },
   "kernels_config": {
    "python": {
     "delete_cmd_postfix": "",
     "delete_cmd_prefix": "del ",
     "library": "var_list.py",
     "varRefreshCmd": "print(var_dic_list())"
    },
    "r": {
     "delete_cmd_postfix": ") ",
     "delete_cmd_prefix": "rm(",
     "library": "var_list.r",
     "varRefreshCmd": "cat(var_dic_list()) "
    }
   },
   "oldHeight": 432.841364,
   "position": {
    "height": "454.83px",
    "left": "1376.35px",
    "right": "20px",
    "top": "121px",
    "width": "352.983px"
   },
   "types_to_exclude": [
    "module",
    "function",
    "builtin_function_or_method",
    "instance",
    "_Feature"
   ],
   "varInspector_section_display": "block",
   "window_display": true
  }
 },
 "nbformat": 4,
 "nbformat_minor": 5
}
