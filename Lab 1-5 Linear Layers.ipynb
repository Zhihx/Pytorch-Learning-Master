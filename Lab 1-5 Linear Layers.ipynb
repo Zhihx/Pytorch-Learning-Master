{
 "cells": [
  {
   "cell_type": "markdown",
   "id": "9c87d91f",
   "metadata": {},
   "source": [
    "**The link can be found below**\n",
    "\n",
    "https://www.bilibili.com/video/BV1ce411K7XC?p=10&vd_source=7cca4a20f2401942703a8c8eff4d7492"
   ]
  },
  {
   "cell_type": "code",
   "execution_count": 1,
   "id": "a627d2fc",
   "metadata": {},
   "outputs": [],
   "source": [
    "import torch\n",
    "import torch.nn as nn"
   ]
  },
  {
   "cell_type": "markdown",
   "id": "3bd3366c",
   "metadata": {},
   "source": [
    "## nn.Linear\n",
    "https://pytorch.org/docs/stable/generated/torch.nn.Linear.html?highlight=linear#torch.nn.Linear\n",
    "\n",
    "$$y=xA^T+b$$\n",
    "\n",
    "Input: \n",
    "$$(*, H_{in})$$\n",
    "Output:\n",
    "$$(*, H_{out})$$"
   ]
  },
  {
   "cell_type": "code",
   "execution_count": 3,
   "id": "7fb0861d",
   "metadata": {},
   "outputs": [
    {
     "name": "stdout",
     "output_type": "stream",
     "text": [
      "Parameter containing:\n",
      "tensor([[ 0.2428, -0.2119, -0.1144,  0.2428],\n",
      "        [-0.1241, -0.0758,  0.0310, -0.2176]], requires_grad=True)\n"
     ]
    }
   ],
   "source": [
    "linear_layer = nn.Linear(4, 2, bias = False)\n",
    "print(linear_layer.weight)"
   ]
  },
  {
   "cell_type": "code",
   "execution_count": 6,
   "id": "07384b9b",
   "metadata": {},
   "outputs": [
    {
     "name": "stdout",
     "output_type": "stream",
     "text": [
      "Parameter containing:\n",
      "tensor([[2., 2., 2., 2.],\n",
      "        [2., 2., 2., 2.]], requires_grad=True)\n",
      "torch.Size([2, 4])\n"
     ]
    }
   ],
   "source": [
    "weights = torch.Tensor(\n",
    "        [[2, 2, 2, 2],\n",
    "         [2, 2, 2, 2]]\n",
    "        )\n",
    "linear_layer.weight = nn.Parameter(weights)\n",
    "print(linear_layer.weight)\n",
    "print(linear_layer.weight.shape)"
   ]
  },
  {
   "cell_type": "code",
   "execution_count": 5,
   "id": "21b3b13e",
   "metadata": {},
   "outputs": [
    {
     "name": "stdout",
     "output_type": "stream",
     "text": [
      "torch.Size([2, 4])\n",
      "torch.Size([2, 2])\n",
      "tensor([[8., 8.],\n",
      "        [8., 8.]], grad_fn=<MmBackward0>)\n"
     ]
    }
   ],
   "source": [
    "input = torch.ones((2, 4))\n",
    "print(input.shape)\n",
    "output = linear_layer(input)\n",
    "print(output.shape)\n",
    "print(output)"
   ]
  },
  {
   "cell_type": "code",
   "execution_count": null,
   "id": "203144ba",
   "metadata": {},
   "outputs": [],
   "source": []
  },
  {
   "cell_type": "code",
   "execution_count": null,
   "id": "b4b6554c",
   "metadata": {},
   "outputs": [],
   "source": []
  },
  {
   "cell_type": "code",
   "execution_count": null,
   "id": "c8bfffe0",
   "metadata": {},
   "outputs": [],
   "source": []
  },
  {
   "cell_type": "code",
   "execution_count": null,
   "id": "7f8601c3",
   "metadata": {},
   "outputs": [],
   "source": []
  },
  {
   "cell_type": "code",
   "execution_count": null,
   "id": "5535e4e1",
   "metadata": {},
   "outputs": [],
   "source": []
  },
  {
   "cell_type": "code",
   "execution_count": null,
   "id": "4b4968da",
   "metadata": {},
   "outputs": [],
   "source": []
  }
 ],
 "metadata": {
  "kernelspec": {
   "display_name": "Python 3 (ipykernel)",
   "language": "python",
   "name": "python3"
  },
  "language_info": {
   "codemirror_mode": {
    "name": "ipython",
    "version": 3
   },
   "file_extension": ".py",
   "mimetype": "text/x-python",
   "name": "python",
   "nbconvert_exporter": "python",
   "pygments_lexer": "ipython3",
   "version": "3.7.15"
  },
  "toc": {
   "base_numbering": 1,
   "nav_menu": {},
   "number_sections": true,
   "sideBar": true,
   "skip_h1_title": false,
   "title_cell": "Table of Contents",
   "title_sidebar": "Contents",
   "toc_cell": false,
   "toc_position": {},
   "toc_section_display": true,
   "toc_window_display": false
  },
  "varInspector": {
   "cols": {
    "lenName": 16,
    "lenType": 16,
    "lenVar": 40
   },
   "kernels_config": {
    "python": {
     "delete_cmd_postfix": "",
     "delete_cmd_prefix": "del ",
     "library": "var_list.py",
     "varRefreshCmd": "print(var_dic_list())"
    },
    "r": {
     "delete_cmd_postfix": ") ",
     "delete_cmd_prefix": "rm(",
     "library": "var_list.r",
     "varRefreshCmd": "cat(var_dic_list()) "
    }
   },
   "types_to_exclude": [
    "module",
    "function",
    "builtin_function_or_method",
    "instance",
    "_Feature"
   ],
   "window_display": false
  }
 },
 "nbformat": 4,
 "nbformat_minor": 5
}
